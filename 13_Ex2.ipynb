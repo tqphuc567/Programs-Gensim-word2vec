{
  "nbformat": 4,
  "nbformat_minor": 0,
  "metadata": {
    "colab": {
      "name": "13-Ex2.ipynb",
      "provenance": [],
      "toc_visible": true,
      "include_colab_link": true
    },
    "kernelspec": {
      "name": "python3",
      "display_name": "Python 3"
    }
  },
  "cells": [
    {
      "cell_type": "markdown",
      "metadata": {
        "id": "view-in-github",
        "colab_type": "text"
      },
      "source": [
        "<a href=\"https://colab.research.google.com/github/tqphuc567/Word2vec/blob/master/13_Ex2.ipynb\" target=\"_parent\"><img src=\"https://colab.research.google.com/assets/colab-badge.svg\" alt=\"Open In Colab\"/></a>"
      ]
    },
    {
      "cell_type": "markdown",
      "metadata": {
        "id": "L6038DmWxg8o"
      },
      "source": [
        "#### Mục tiêu: Xây dựng mô hình có độ chính xác trên tập validation khoảng 87%"
      ]
    },
    {
      "cell_type": "code",
      "metadata": {
        "id": "fCWW2CT0soWW"
      },
      "source": [
        "from tensorflow.keras.models import Sequential\n",
        "from tensorflow.keras.layers import Dense, Embedding, GlobalAveragePooling1D"
      ],
      "execution_count": null,
      "outputs": []
    },
    {
      "cell_type": "code",
      "metadata": {
        "id": "W4EsLAWLrer6"
      },
      "source": [
        "\n",
        "import tensorflow as tf\n",
        "\n",
        "import tensorflow_datasets as tfds\n",
        "imdb, info = tfds.load(\"imdb_reviews/subwords8k\", with_info=True, as_supervised=True)"
      ],
      "execution_count": null,
      "outputs": []
    },
    {
      "cell_type": "code",
      "metadata": {
        "id": "2JI6wmV1sOkA"
      },
      "source": [
        "train_data, test_data = imdb['train'], imdb['test']"
      ],
      "execution_count": null,
      "outputs": []
    },
    {
      "cell_type": "code",
      "metadata": {
        "id": "gVTScvbNsV1e"
      },
      "source": [
        "tokenizer = info.features['text'].encoder"
      ],
      "execution_count": null,
      "outputs": []
    },
    {
      "cell_type": "code",
      "metadata": {
        "id": "zY640-tO3HIm"
      },
      "source": [
        "train_data = train_data.padded_batch(64, train_data.output_shapes)\n",
        "test_data = test_data.padded_batch(64, test_data.output_shapes)"
      ],
      "execution_count": null,
      "outputs": []
    },
    {
      "cell_type": "code",
      "metadata": {
        "id": "XX-ttChq3I9d"
      },
      "source": [
        "for item in train_data:\n",
        "  print(item)"
      ],
      "execution_count": null,
      "outputs": []
    },
    {
      "cell_type": "code",
      "metadata": {
        "id": "yUIsazhosWi-"
      },
      "source": [
        "# Xây dựng model\n",
        "\n",
        "# FIXME: Tạo model Sequential\n",
        "\n",
        "model = \n",
        "\n",
        "# FIXME: Thêm một lớp Embedding\n",
        "\n",
        "model.add()\n",
        "\n",
        "model.add(GlobalAveragePooling1D()) # Ta hoàn toàn có thể sử dụng một lớp Convolution 1D sau embedding để tìm mối quan hệ giữa các từ\n",
        "\n",
        "# FIXME: Thêm một lớp Dense, chú ý có activation\n",
        "\n",
        "model.add()\n",
        "\n",
        "# FIXME: Thêm một lớp Dense cuối, chú ý có activation\n",
        "\n",
        "model.add()\n"
      ],
      "execution_count": null,
      "outputs": []
    },
    {
      "cell_type": "code",
      "metadata": {
        "id": "Ut1m3lFlubiM"
      },
      "source": [
        "num_epochs = 10\n",
        "\n",
        "# FIXME: Compile Optimizer và Loss function\n",
        "\n",
        "model.compile()\n",
        "\n",
        "# FIXME: Tiến hành training. Mục tiêu: 87 %\n",
        "\n",
        "history = model.fit()"
      ],
      "execution_count": null,
      "outputs": []
    }
  ]
}